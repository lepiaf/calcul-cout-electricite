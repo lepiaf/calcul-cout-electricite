{
 "cells": [
  {
   "cell_type": "markdown",
   "metadata": {},
   "source": [
    "# Calcul du coût en fonction du tarif choisi\n",
    "\n",
    "A partir des différents tarifs que j'ai receuilli, et de la consommation effective, je calcul le coût pour chaque tarif. "
   ]
  },
  {
   "cell_type": "code",
   "execution_count": 1,
   "metadata": {
    "pycharm": {
     "name": "#%%\n"
    }
   },
   "outputs": [],
   "source": [
    "import pandas as pd\n",
    "\n",
    "df = pd.read_parquet(\"datalake/enedis-data-ready-to-work.parquet\")\n"
   ]
  },
  {
   "cell_type": "code",
   "execution_count": 2,
   "metadata": {
    "pycharm": {
     "name": "#%%\n"
    }
   },
   "outputs": [
    {
     "data": {
      "text/html": [
       "<div>\n",
       "<style scoped>\n",
       "    .dataframe tbody tr th:only-of-type {\n",
       "        vertical-align: middle;\n",
       "    }\n",
       "\n",
       "    .dataframe tbody tr th {\n",
       "        vertical-align: top;\n",
       "    }\n",
       "\n",
       "    .dataframe thead th {\n",
       "        text-align: right;\n",
       "    }\n",
       "</style>\n",
       "<table border=\"1\" class=\"dataframe\">\n",
       "  <thead>\n",
       "    <tr style=\"text-align: right;\">\n",
       "      <th></th>\n",
       "      <th>Consommation par periode en kWh</th>\n",
       "      <th>Périodes</th>\n",
       "    </tr>\n",
       "  </thead>\n",
       "  <tbody>\n",
       "    <tr>\n",
       "      <th>0</th>\n",
       "      <td>132.935</td>\n",
       "      <td>Heure Pleine</td>\n",
       "    </tr>\n",
       "    <tr>\n",
       "      <th>1</th>\n",
       "      <td>158.837</td>\n",
       "      <td>Heure Creuse</td>\n",
       "    </tr>\n",
       "    <tr>\n",
       "      <th>2</th>\n",
       "      <td>136.113</td>\n",
       "      <td>Weekend</td>\n",
       "    </tr>\n",
       "  </tbody>\n",
       "</table>\n",
       "</div>"
      ],
      "text/plain": [
       "   Consommation par periode en kWh      Périodes\n",
       "0                          132.935  Heure Pleine\n",
       "1                          158.837  Heure Creuse\n",
       "2                          136.113       Weekend"
      ]
     },
     "execution_count": 2,
     "metadata": {},
     "output_type": "execute_result"
    }
   ],
   "source": [
    "repartition_consommation = pd.DataFrame(\n",
    "    {\n",
    "        \"Consommation par periode en kWh\": [\n",
    "            df[\"Différence journalier Heure Pleine\"].sum() / 1000,\n",
    "            df[\"Différence journalier Heure Creuse\"].sum() / 1000,\n",
    "            df[\"Différence journalier Weekend\"].sum() / 1000,\n",
    "        ],\n",
    "        \"Périodes\": [\"Heure Pleine\", \"Heure Creuse\", \"Weekend\"],\n",
    "    }\n",
    ")\n",
    "repartition_consommation\n"
   ]
  },
  {
   "cell_type": "code",
   "execution_count": null,
   "metadata": {
    "collapsed": false,
    "pycharm": {
     "name": "#%%\n"
    }
   },
   "outputs": [],
   "source": [
    "import plotly.express as px\n",
    "\n",
    "fig = px.pie(\n",
    "    repartition_consommation,\n",
    "    values=\"Consommation par periode en kWh\",\n",
    "    names=\"Périodes\",\n",
    "    title=\"Consommation par période\",\n",
    ")\n",
    "fig.show()\n"
   ]
  },
  {
   "cell_type": "markdown",
   "metadata": {},
   "source": [
    "![Répartition de la consommation](images/repartition-consommation.png)"
   ]
  },
  {
   "cell_type": "code",
   "execution_count": 4,
   "metadata": {
    "pycharm": {
     "name": "#%%\n"
    }
   },
   "outputs": [],
   "source": [
    "df_tarif_vert_base = pd.read_excel(\"datalake/tarif-vert-base.ods\")\n",
    "selected_df_tarif_vert_base = df_tarif_vert_base.loc[df_tarif_vert_base[\"kva\"] == 9]\n",
    "selected_df_tarif_vert_base.reset_index(drop=True, inplace=True)\n",
    "cout_tarif_vert_base = (df[\"Différence journalier Total Consommation\"] / 1000) * (\n",
    "    selected_df_tarif_vert_base[\"prix kwh\"].values[0] / 100\n",
    ")\n",
    "calculated_cout_tarif_vert_base = cout_tarif_vert_base.sum() + (\n",
    "    (selected_df_tarif_vert_base[\"abonnement\"].values[0])\n",
    ")\n"
   ]
  },
  {
   "cell_type": "code",
   "execution_count": 5,
   "metadata": {
    "pycharm": {
     "name": "#%%\n"
    }
   },
   "outputs": [],
   "source": [
    "df_tarif_bleu_base = pd.read_excel(\"datalake/tarif-bleu-base.ods\")\n",
    "selected_df_tarif_bleu_base = df_tarif_bleu_base.loc[df_tarif_bleu_base[\"kva\"] == 9]\n",
    "selected_df_tarif_bleu_base.reset_index(drop=True, inplace=True)\n",
    "cout_tarif_bleu_base = (df[\"Différence journalier Total Consommation\"] / 1000) * (\n",
    "    selected_df_tarif_bleu_base[\"prix kwh\"].values[0] / 100\n",
    ")\n",
    "calculated_cout_tarif_bleu_base = cout_tarif_bleu_base.sum() + (\n",
    "    (selected_df_tarif_bleu_base[\"abonnement\"].values[0])\n",
    ")\n"
   ]
  },
  {
   "cell_type": "code",
   "execution_count": 6,
   "metadata": {
    "pycharm": {
     "name": "#%%\n"
    }
   },
   "outputs": [],
   "source": [
    "df_tarif_vert_weekend = pd.read_excel(\"datalake/tarif-vert-weekend.ods\")\n",
    "selected_df_tarif_vert_weekend = df_tarif_vert_weekend.loc[\n",
    "    df_tarif_vert_weekend[\"kva\"] == 9\n",
    "]\n",
    "selected_df_tarif_vert_weekend.reset_index(drop=True, inplace=True)\n",
    "cout_tarif_vert_weekend = pd.DataFrame(columns=[\"cout heure semaine\", \"cout weekend\"])\n",
    "cout_tarif_vert_weekend[\"cout heure semaine\"] = (\n",
    "    df[\"Différence journalier Heure Creuse\"] / 1000\n",
    ") * (selected_df_tarif_vert_weekend[\"heure semaine\"].values[0] / 100) + (\n",
    "    df[\"Différence journalier Heure Pleine\"] / 1000\n",
    ") * (\n",
    "    selected_df_tarif_vert_weekend[\"heure semaine\"].values[0] / 100\n",
    ")\n",
    "cout_tarif_vert_weekend[\"cout weekend\"] = (\n",
    "    df[\"Différence journalier Weekend\"] / 1000\n",
    ") * (selected_df_tarif_vert_weekend[\"heure weekend\"].values[0] / 100)\n",
    "cout_tarif_vert_weekend[\"total\"] = (\n",
    "    cout_tarif_vert_weekend[\"cout weekend\"]\n",
    "    + cout_tarif_vert_weekend[\"cout heure semaine\"]\n",
    ")\n",
    "calculated_cout_tarif_vert_weekend = cout_tarif_vert_weekend[\"total\"].sum() + (\n",
    "    (selected_df_tarif_vert_weekend[\"abonnement\"].values[0])\n",
    ")\n"
   ]
  },
  {
   "cell_type": "code",
   "execution_count": 7,
   "metadata": {
    "pycharm": {
     "name": "#%%\n"
    }
   },
   "outputs": [],
   "source": [
    "df_tarif_vert_weekend_hp_hc = pd.read_excel(\"datalake/tarif-vert-weekend-hc-hp.ods\")\n",
    "selected_df_tarif_vert_weekend_hp_hc = df_tarif_vert_weekend_hp_hc.loc[\n",
    "    df_tarif_vert_weekend_hp_hc[\"kva\"] == 9\n",
    "]\n",
    "selected_df_tarif_vert_weekend_hp_hc.reset_index(drop=True, inplace=True)\n",
    "\n",
    "cout_tarif_vert_weekend_hp_hc = pd.DataFrame(\n",
    "    columns=[\"cout heure creuse\", \"cout heure pleine\", \"cout weekend\"]\n",
    ")\n",
    "cout_tarif_vert_weekend_hp_hc[\"cout heure creuse\"] = (\n",
    "    df[\"Différence journalier Heure Creuse\"] / 1000\n",
    ") * (selected_df_tarif_vert_weekend_hp_hc[\"heure creuse\"].values[0] / 100)\n",
    "cout_tarif_vert_weekend_hp_hc[\"cout heure pleine\"] = (\n",
    "    df[\"Différence journalier Heure Pleine\"] / 1000\n",
    ") * (selected_df_tarif_vert_weekend_hp_hc[\"heure pleine\"].values[0] / 100)\n",
    "cout_tarif_vert_weekend_hp_hc[\"cout weekend\"] = (\n",
    "    df[\"Différence journalier Weekend\"] / 1000\n",
    ") * (selected_df_tarif_vert_weekend_hp_hc[\"heure weekend\"].values[0] / 100)\n",
    "cout_tarif_vert_weekend_hp_hc[\"total\"] = (\n",
    "    cout_tarif_vert_weekend_hp_hc[\"cout weekend\"]\n",
    "    + cout_tarif_vert_weekend_hp_hc[\"cout heure pleine\"]\n",
    "    + cout_tarif_vert_weekend_hp_hc[\"cout heure creuse\"]\n",
    ")\n",
    "calculated_cout_tarif_vert_weekend_hp_hc = cout_tarif_vert_weekend_hp_hc[\n",
    "    \"total\"\n",
    "].sum() + ((selected_df_tarif_vert_weekend_hp_hc[\"abonnement\"].values[0]))\n"
   ]
  },
  {
   "cell_type": "code",
   "execution_count": null,
   "metadata": {
    "collapsed": false,
    "pycharm": {
     "name": "#%%\n"
    }
   },
   "outputs": [],
   "source": [
    "comparatif = pd.DataFrame(\n",
    "    {\n",
    "        \"Coût\": pd.Series(\n",
    "            [\n",
    "                calculated_cout_tarif_bleu_base,\n",
    "                calculated_cout_tarif_vert_base,\n",
    "                calculated_cout_tarif_vert_weekend,\n",
    "                calculated_cout_tarif_vert_weekend_hp_hc,\n",
    "            ]\n",
    "        ).round(2),\n",
    "        \"Tarif\": [\n",
    "            \"Tarif Bleu Base\",\n",
    "            \"Tarif Vert Base\",\n",
    "            \"Tarif Vert Weekend\",\n",
    "            \"Tarif Vert Weekend Heure Creuse\",\n",
    "        ],\n",
    "    }\n",
    ")\n",
    "import plotly.express as px\n",
    "\n",
    "fig = px.bar(\n",
    "    comparatif,\n",
    "    x=\"Tarif\",\n",
    "    y=\"Coût\",\n",
    "    text=\"Coût\",\n",
    "    range_y=[85, 97],\n",
    "    title=\"Coût en euros en fonction du tarif choisi\",\n",
    ")\n",
    "fig.show()\n"
   ]
  },
  {
   "cell_type": "markdown",
   "metadata": {},
   "source": [
    "![Fallback pour Github, calcul cout électricité en fonction du tarif](images/calcul-cout-electricite.png)"
   ]
  }
 ],
 "metadata": {
  "kernelspec": {
   "display_name": "Python 3.10.5 ('venv': venv)",
   "language": "python",
   "name": "python3"
  },
  "language_info": {
   "codemirror_mode": {
    "name": "ipython",
    "version": 3
   },
   "file_extension": ".py",
   "mimetype": "text/x-python",
   "name": "python",
   "nbconvert_exporter": "python",
   "pygments_lexer": "ipython3",
   "version": "3.10.5"
  },
  "vscode": {
   "interpreter": {
    "hash": "7d2a234a488aecc26b7b378910de12aebfcd6a8166d58a7490b3452d2edb8c1c"
   }
  }
 },
 "nbformat": 4,
 "nbformat_minor": 1
}
